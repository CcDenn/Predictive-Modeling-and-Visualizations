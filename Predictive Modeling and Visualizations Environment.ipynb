{
 "cells": [
  {
   "attachments": {},
   "cell_type": "markdown",
   "metadata": {},
   "source": [
    "# Predictive Modeling and Visualizations\n",
    "\n",
    " By Chuan Yong (Bill) Guo\n",
    "\n",
    "The purpose of this file is to act as a template to test various machine learning models and document possible options and parameters that can be manipulated for each model in a concise and easy to follow format. Each line of code is attached to a '' symbol in front of it to prevent the code from running as multiple codes within a code cell because some codes may not be allowed to run together. In order to run the line of code, remove the '' symbol on front of the desired code line. The purpose of this setup package multiple concepts within a single code cell for easy access and understanding, without having the cell run into errors trying to run multiple contradictory codes."
   ]
  },
  {
   "cell_type": "code",
   "execution_count": 115,
   "metadata": {},
   "outputs": [],
   "source": [
    "#This cell is used to import modules that will be useful for model prediction. \n",
    "\n",
    "import pandas as pd #Pandas is the base Python library used to manuipulate datasets, typically this will always be useful. \n",
    "import numpy as np #Numpy is mainly used to allow for mathematical manipulations of datasets, typically this will always be useful.\n"
   ]
  },
  {
   "cell_type": "code",
   "execution_count": 116,
   "metadata": {},
   "outputs": [
    {
     "data": {
      "text/html": [
       "<div>\n",
       "<style scoped>\n",
       "    .dataframe tbody tr th:only-of-type {\n",
       "        vertical-align: middle;\n",
       "    }\n",
       "\n",
       "    .dataframe tbody tr th {\n",
       "        vertical-align: top;\n",
       "    }\n",
       "\n",
       "    .dataframe thead th {\n",
       "        text-align: right;\n",
       "    }\n",
       "</style>\n",
       "<table border=\"1\" class=\"dataframe\">\n",
       "  <thead>\n",
       "    <tr style=\"text-align: right;\">\n",
       "      <th></th>\n",
       "      <th>Geographic Area</th>\n",
       "      <th>Population</th>\n",
       "    </tr>\n",
       "  </thead>\n",
       "  <tbody>\n",
       "    <tr>\n",
       "      <th>0</th>\n",
       "      <td>New York city, New York</td>\n",
       "      <td>8467513</td>\n",
       "    </tr>\n",
       "    <tr>\n",
       "      <th>1</th>\n",
       "      <td>Los Angeles city, California</td>\n",
       "      <td>3849297</td>\n",
       "    </tr>\n",
       "    <tr>\n",
       "      <th>2</th>\n",
       "      <td>Chicago city, Illinois</td>\n",
       "      <td>2696555</td>\n",
       "    </tr>\n",
       "    <tr>\n",
       "      <th>3</th>\n",
       "      <td>Houston city, Texas</td>\n",
       "      <td>2288250</td>\n",
       "    </tr>\n",
       "    <tr>\n",
       "      <th>4</th>\n",
       "      <td>Phoenix city, Arizona</td>\n",
       "      <td>1624569</td>\n",
       "    </tr>\n",
       "    <tr>\n",
       "      <th>...</th>\n",
       "      <td>...</td>\n",
       "      <td>...</td>\n",
       "    </tr>\n",
       "    <tr>\n",
       "      <th>799</th>\n",
       "      <td>Cypress city, California</td>\n",
       "      <td>49926</td>\n",
       "    </tr>\n",
       "    <tr>\n",
       "      <th>800</th>\n",
       "      <td>Murray city, Utah</td>\n",
       "      <td>49729</td>\n",
       "    </tr>\n",
       "    <tr>\n",
       "      <th>801</th>\n",
       "      <td>Chesterfield city, Missouri</td>\n",
       "      <td>49703</td>\n",
       "    </tr>\n",
       "    <tr>\n",
       "      <th>802</th>\n",
       "      <td>Downers Grove village, Illinois</td>\n",
       "      <td>49654</td>\n",
       "    </tr>\n",
       "    <tr>\n",
       "      <th>803</th>\n",
       "      <td>St. Louis Park city, Minnesota</td>\n",
       "      <td>49158</td>\n",
       "    </tr>\n",
       "  </tbody>\n",
       "</table>\n",
       "<p>804 rows × 2 columns</p>\n",
       "</div>"
      ],
      "text/plain": [
       "                     Geographic Area  Population\n",
       "0            New York city, New York     8467513\n",
       "1       Los Angeles city, California     3849297\n",
       "2             Chicago city, Illinois     2696555\n",
       "3                Houston city, Texas     2288250\n",
       "4              Phoenix city, Arizona     1624569\n",
       "..                               ...         ...\n",
       "799         Cypress city, California       49926\n",
       "800                Murray city, Utah       49729\n",
       "801      Chesterfield city, Missouri       49703\n",
       "802  Downers Grove village, Illinois       49654\n",
       "803   St. Louis Park city, Minnesota       49158\n",
       "\n",
       "[804 rows x 2 columns]"
      ]
     },
     "execution_count": 116,
     "metadata": {},
     "output_type": "execute_result"
    }
   ],
   "source": [
    "#Importing datasets\n",
    "df_original = pd.read_csv('Datasets/salarysample.csv', usecols=['Job Title','Avg Salary(K)','Job Description','Location']) #Used to read .csv files. usecols parameter selects for specific columns to be loaded. \n",
    "df_original2 = pd.read_excel('Datasets/US_Population_2020_2021.xlsx', sheet_name='2021', usecols=['Geographic Area','Population']) #Used to read .xls files, sheet_name can be used to select for different sheets by using index number or string name.\n",
    "df1 = df_original #Good idea to create a new object that is a copy of the original dataset so that the original dataset isn't directly manipulated\n",
    "df2 = df_original2\n",
    "#df_original.head() #Initial dataset without any manipulation.\n",
    "df2"
   ]
  },
  {
   "attachments": {},
   "cell_type": "markdown",
   "metadata": {},
   "source": [
    "### Basic Column and Row Manipulation"
   ]
  },
  {
   "cell_type": "code",
   "execution_count": 117,
   "metadata": {},
   "outputs": [],
   "source": [
    "###'''Data Cleaning'''\n",
    "\n",
    "###'''Declaring and resetting columns as index'''\n",
    "#df.set_index('Job Title',inplace=True)\n",
    "#df.reset_index(inplace=True)\n",
    "\n",
    "###'''Adding a column based on other columns'''\n",
    "#df['New column'] = (df['Lower Salary'] + df['Upper Salary'])/2 #Mathematical manipulation\n",
    "\n",
    "#Method for adding a column based on condition of existing column, can edit conditions to suit needs.\n",
    "    #def output_element(input_element): \n",
    "        #if input_element < 50:\n",
    "            #return 'Low'\n",
    "        #elif input_element >= 50 and input_element < 80:\n",
    "            #return 'Medium'\n",
    "        #else:\n",
    "            #return 'High'\n",
    "    #df['New Column'] = df['Lower Salary'].apply(output_element)\n",
    "    #df\n",
    "\n",
    "###'''Removing columns'''\n",
    "#df.drop(columns={'Rating','Location'},inplace=True) #By column name.\n",
    "#df.drop(df.iloc[:, 1:3],axis=1,inplace=True) #By column index with range of columns (axis=1 indicates columns)\n",
    "\n",
    "###'''Viewing multiple columns'''\n",
    "#df[['New column','Job Title']] #By column name\n",
    "#df.loc[:,'Rating':'Location'] #By column name(another format)\n",
    "#df.iloc[:,[1,2,5]] #By column index\n",
    "#df.iloc[:,1:5] #By column index with range of columns\n",
    "\n",
    "###'''Adding a row'''\n",
    "#df.loc[len(df)] = [0,1,2,3,4,5,6,7,8,9,10,11,12,13,14,15,16,17,18,19,20,21,22,23,24,25,26,27,28,29,30,31,32,33,34,35,36,37,38,39,40,41] #Add new row at the end of dataframe, or any row by specifying index number, number of elements must match column number\n",
    "\n",
    "###'''Removing rows'''\n",
    "#df.drop([0,1])\n",
    "\n",
    "###'''Viewing multiple rows'''\n",
    "#df.iloc[3:9,1:5]\n",
    "\n"
   ]
  },
  {
   "attachments": {},
   "cell_type": "markdown",
   "metadata": {},
   "source": [
    "### Merging Multiple Datasets"
   ]
  },
  {
   "cell_type": "code",
   "execution_count": 118,
   "metadata": {},
   "outputs": [
    {
     "data": {
      "text/html": [
       "<div>\n",
       "<style scoped>\n",
       "    .dataframe tbody tr th:only-of-type {\n",
       "        vertical-align: middle;\n",
       "    }\n",
       "\n",
       "    .dataframe tbody tr th {\n",
       "        vertical-align: top;\n",
       "    }\n",
       "\n",
       "    .dataframe thead th {\n",
       "        text-align: right;\n",
       "    }\n",
       "</style>\n",
       "<table border=\"1\" class=\"dataframe\">\n",
       "  <thead>\n",
       "    <tr style=\"text-align: right;\">\n",
       "      <th></th>\n",
       "      <th>Population</th>\n",
       "      <th>Salary</th>\n",
       "      <th>Categorized Job Title</th>\n",
       "    </tr>\n",
       "  </thead>\n",
       "  <tbody>\n",
       "    <tr>\n",
       "      <th>0</th>\n",
       "      <td>5.625990e+05</td>\n",
       "      <td>72000.0</td>\n",
       "      <td>Data Scientist</td>\n",
       "    </tr>\n",
       "    <tr>\n",
       "      <th>1</th>\n",
       "      <td>1.190702e+06</td>\n",
       "      <td>87500.0</td>\n",
       "      <td>Data Scientist</td>\n",
       "    </tr>\n",
       "    <tr>\n",
       "      <th>2</th>\n",
       "      <td>1.166740e+05</td>\n",
       "      <td>85000.0</td>\n",
       "      <td>Data Scientist</td>\n",
       "    </tr>\n",
       "    <tr>\n",
       "      <th>3</th>\n",
       "      <td>6.192900e+04</td>\n",
       "      <td>76500.0</td>\n",
       "      <td>Data Scientist</td>\n",
       "    </tr>\n",
       "    <tr>\n",
       "      <th>4</th>\n",
       "      <td>8.467513e+06</td>\n",
       "      <td>114500.0</td>\n",
       "      <td>Data Scientist</td>\n",
       "    </tr>\n",
       "    <tr>\n",
       "      <th>...</th>\n",
       "      <td>...</td>\n",
       "      <td>...</td>\n",
       "      <td>...</td>\n",
       "    </tr>\n",
       "    <tr>\n",
       "      <th>804</th>\n",
       "      <td>1.170900e+05</td>\n",
       "      <td>84500.0</td>\n",
       "      <td>Data Scientist</td>\n",
       "    </tr>\n",
       "    <tr>\n",
       "      <th>805</th>\n",
       "      <td>1.190702e+06</td>\n",
       "      <td>102500.0</td>\n",
       "      <td>Data Engineer</td>\n",
       "    </tr>\n",
       "    <tr>\n",
       "      <th>806</th>\n",
       "      <td>3.004310e+05</td>\n",
       "      <td>73500.0</td>\n",
       "      <td>Data Scientist</td>\n",
       "    </tr>\n",
       "    <tr>\n",
       "      <th>807</th>\n",
       "      <td>1.259440e+05</td>\n",
       "      <td>127500.0</td>\n",
       "      <td>Other</td>\n",
       "    </tr>\n",
       "    <tr>\n",
       "      <th>808</th>\n",
       "      <td>1.190702e+06</td>\n",
       "      <td>93500.0</td>\n",
       "      <td>Data Scientist</td>\n",
       "    </tr>\n",
       "  </tbody>\n",
       "</table>\n",
       "<p>809 rows × 3 columns</p>\n",
       "</div>"
      ],
      "text/plain": [
       "       Population    Salary Categorized Job Title\n",
       "0    5.625990e+05   72000.0        Data Scientist\n",
       "1    1.190702e+06   87500.0        Data Scientist\n",
       "2    1.166740e+05   85000.0        Data Scientist\n",
       "3    6.192900e+04   76500.0        Data Scientist\n",
       "4    8.467513e+06  114500.0        Data Scientist\n",
       "..            ...       ...                   ...\n",
       "804  1.170900e+05   84500.0        Data Scientist\n",
       "805  1.190702e+06  102500.0         Data Engineer\n",
       "806  3.004310e+05   73500.0        Data Scientist\n",
       "807  1.259440e+05  127500.0                 Other\n",
       "808  1.190702e+06   93500.0        Data Scientist\n",
       "\n",
       "[809 rows x 3 columns]"
      ]
     },
     "execution_count": 118,
     "metadata": {},
     "output_type": "execute_result"
    }
   ],
   "source": [
    "###'''Merging 2 datasets'''\n",
    "df1['Location'] = df1['Location'].apply(lambda comma: comma.split(',')[0])\n",
    "\n",
    "df2['Geographic Area']=df2['Geographic Area'].apply(lambda symbol : symbol.replace(' city',''))\n",
    "df2['Geographic Area'] = df2['Geographic Area'].apply(lambda comma: comma.split(',')[0])\n",
    "df2['Location']=df2['Geographic Area']\n",
    "df3=pd.merge(df1, df2, left_on='Location', right_on='Geographic Area', how='left')\n",
    "df3['Salary']=df3['Avg Salary(K)']*1000\n",
    "\n",
    "def categorized_title(job_title):\n",
    "    if 'Scientist' in job_title:\n",
    "        return 'Data Scientist'\n",
    "    elif 'Engineer' in job_title:\n",
    "        return 'Data Engineer'\n",
    "    elif 'Analyst' in job_title:\n",
    "        return 'Data Analyst'\n",
    "    else:\n",
    "        return 'Other'\n",
    "df3['Categorized Job Title'] = df3['Job Title'].apply(categorized_title)\n",
    "\n",
    "\n",
    "\n",
    "df3.drop(columns={'Geographic Area','Avg Salary(K)','Job Description','Job Title','Location_x','Location_y'},inplace=True)\n",
    "df3['Population'] = df3['Population'].fillna(df3['Population'].mean())\n",
    "df3"
   ]
  },
  {
   "attachments": {},
   "cell_type": "markdown",
   "metadata": {},
   "source": [
    "### Data Visualizations"
   ]
  },
  {
   "cell_type": "code",
   "execution_count": 119,
   "metadata": {},
   "outputs": [
    {
     "data": {
      "image/png": "[encoded data removed]",
      "text/plain": [
       "<Figure size 1440x1080 with 6 Axes>"
      ]
     },
     "metadata": {
      "needs_background": "light"
     },
     "output_type": "display_data"
    }
   ],
   "source": [
    "import matplotlib.pyplot as plt\n",
    "import seaborn as sns\n",
    "\n",
    "\n",
    "fig, ax = plt.subplots(nrows=2,ncols=3,figsize=(20,15)) #Create subplots, manipulate plot size. nrows is the number of rows, ncols is the number of columns, figsize is the size of subplot\n",
    "\n",
    "###'''Countplot\n",
    "sns.countplot(data=df3, x='Categorized Job Title', ax=ax[0,0]) #ax is used to define the position of the plot in the subplot\n",
    "\n",
    "###'''Scatterplot\n",
    "sns.scatterplot(data=df3, x='Population', y='Salary', ax=ax[0,1])\n",
    "\n",
    "###'''Histogram\n",
    "sns.histplot(data=df3,x='Population', ax=ax[0,2])\n",
    "\n",
    "###'''Boxplot\n",
    "sns.boxplot(data=df3, y='Population',ax=ax[1,0], color='red')\n",
    "\n",
    "###'''Manipulating Titles and Labels\n",
    "ax[0,0].set_title('Sample Title')\n",
    "ax[0,2].set_xlabel('Sample x-axis label')\n",
    "ax[1,0].set_ylabel('sample y-axis label')\n",
    "\n",
    "plt.show() #Not neccessary in VSCode of Jupyter notebook, but other Python environment may need this in order to show the graphs, so it's better to just have this in all code. "
   ]
  },
  {
   "attachments": {},
   "cell_type": "markdown",
   "metadata": {},
   "source": [
    "### Data Values Manipulation"
   ]
  },
  {
   "cell_type": "code",
   "execution_count": 120,
   "metadata": {},
   "outputs": [
    {
     "name": "stdout",
     "output_type": "stream",
     "text": [
      "<class 'pandas.core.frame.DataFrame'>\n",
      "Int64Index: 809 entries, 0 to 808\n",
      "Data columns (total 3 columns):\n",
      " #   Column                 Non-Null Count  Dtype  \n",
      "---  ------                 --------------  -----  \n",
      " 0   Population             809 non-null    float64\n",
      " 1   Salary                 809 non-null    float64\n",
      " 2   Categorized Job Title  809 non-null    object \n",
      "dtypes: float64(2), object(1)\n",
      "memory usage: 25.3+ KB\n"
     ]
    }
   ],
   "source": [
    "###'''Visualizing datatypes and null values each column contains'''\n",
    "df3.info()\n",
    "#df.columns\n",
    "###'''Imputation (Replace null data with something or removing it completely)'''\n"
   ]
  },
  {
   "attachments": {},
   "cell_type": "markdown",
   "metadata": {},
   "source": [
    "### Splitting Data For Testing and Training"
   ]
  },
  {
   "cell_type": "code",
   "execution_count": 121,
   "metadata": {},
   "outputs": [
    {
     "name": "stdout",
     "output_type": "stream",
     "text": [
      "30595.695006645277\n"
     ]
    }
   ],
   "source": [
    "from sklearn.linear_model import LinearRegression\n",
    "from sklearn.metrics import classification_report\n",
    "from sklearn.model_selection import train_test_split\n",
    "from sklearn.ensemble import RandomForestClassifier\n",
    "from sklearn.metrics import mean_squared_error\n",
    "from sklearn.ensemble import RandomForestRegressor\n",
    "\n",
    "df_encoded = pd.get_dummies(df3)\n",
    "\n",
    "#model = RandomForestClassifier()\n",
    "model = LinearRegression()\n",
    "#model = RandomForestRegressor()\n",
    "\n",
    "y=np.array(df_encoded['Salary']).reshape(-1,1)\n",
    "x=np.array(df_encoded.drop(columns={\"Salary\"}))\n",
    "\n",
    "#GridsearchCV\n",
    "from sklearn.model_selection import GridSearchCV\n",
    "\n",
    "#Pipeline\n",
    "from sklearn.pipeline import Pipeline\n",
    "\n",
    "\n",
    "xtrain, xtest, ytrain, ytest = train_test_split(x, y)\n",
    "model.fit(xtrain, ytrain.ravel())\n",
    "pred=model.predict(xtest)\n",
    "print(mean_squared_error(pred, ytest, squared=False))\n"
   ]
  },
  {
   "attachments": {},
   "cell_type": "markdown",
   "metadata": {},
   "source": [
    "### Predicting Target Variable Using Trained Model"
   ]
  },
  {
   "cell_type": "code",
   "execution_count": 122,
   "metadata": {},
   "outputs": [
    {
     "name": "stderr",
     "output_type": "stream",
     "text": [
      "c:\\Users\\billg\\anaconda3\\lib\\site-packages\\sklearn\\base.py:443: UserWarning: X has feature names, but LinearRegression was fitted without feature names\n",
      "  warnings.warn(\n"
     ]
    },
    {
     "data": {
      "text/html": [
       "<div>\n",
       "<style scoped>\n",
       "    .dataframe tbody tr th:only-of-type {\n",
       "        vertical-align: middle;\n",
       "    }\n",
       "\n",
       "    .dataframe tbody tr th {\n",
       "        vertical-align: top;\n",
       "    }\n",
       "\n",
       "    .dataframe thead th {\n",
       "        text-align: right;\n",
       "    }\n",
       "</style>\n",
       "<table border=\"1\" class=\"dataframe\">\n",
       "  <thead>\n",
       "    <tr style=\"text-align: right;\">\n",
       "      <th></th>\n",
       "      <th>Population</th>\n",
       "      <th>Salary Prediction</th>\n",
       "    </tr>\n",
       "  </thead>\n",
       "  <tbody>\n",
       "    <tr>\n",
       "      <th>0</th>\n",
       "      <td>654776</td>\n",
       "      <td>107160.400302</td>\n",
       "    </tr>\n",
       "  </tbody>\n",
       "</table>\n",
       "</div>"
      ],
      "text/plain": [
       "   Population  Salary Prediction\n",
       "0      654776      107160.400302"
      ]
     },
     "execution_count": 122,
     "metadata": {},
     "output_type": "execute_result"
    }
   ],
   "source": [
    "data= {\n",
    "          'Population':[df2.loc[df2['Location']=='Boston']['Population'].item()]\n",
    "          }\n",
    "user_df = pd.DataFrame(data)\n",
    "\n",
    "\n",
    "user_df['Data Analyst'] = 0\n",
    "user_df['Data Engineer'] = 0\n",
    "user_df['Data Scientist'] = 1\n",
    "user_df['Other'] = 0\n",
    "\n",
    "user_data = user_df['Population'].values.reshape(-1, 1)\n",
    "\n",
    "user_df['Salary Prediction'] = model.predict(user_df)\n",
    "user_df[['Population','Salary Prediction']]"
   ]
  }
 ],
 "metadata": {
  "kernelspec": {
   "display_name": "base",
   "language": "python",
   "name": "python3"
  },
  "language_info": {
   "codemirror_mode": {
    "name": "ipython",
    "version": 3
   },
   "file_extension": ".py",
   "mimetype": "text/x-python",
   "name": "python",
   "nbconvert_exporter": "python",
   "pygments_lexer": "ipython3",
   "version": "3.9.12"
  },
  "orig_nbformat": 4,
  "vscode": {
   "interpreter": {
    "hash": "8161274c49b8f38f6884c14e09490e789b4bc085d1c458693b2c3500591c88d9"
   }
  }
 },
 "nbformat": 4,
 "nbformat_minor": 2
}
